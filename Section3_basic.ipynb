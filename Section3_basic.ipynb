{
 "cells": [
  {
   "cell_type": "markdown",
   "metadata": {},
   "source": [
    "2021/6/17"
   ]
  },
  {
   "cell_type": "code",
   "execution_count": 25,
   "metadata": {},
   "outputs": [],
   "source": [
    "a = None"
   ]
  },
  {
   "cell_type": "code",
   "execution_count": 26,
   "metadata": {},
   "outputs": [
    {
     "name": "stdout",
     "output_type": "stream",
     "text": [
      "a is None!!\n"
     ]
    }
   ],
   "source": [
    "if a is None:\n",
    "    print(\"a is None!!\")\n",
    "else:\n",
    "    print(\"a has value!!\")"
   ]
  },
  {
   "cell_type": "markdown",
   "metadata": {},
   "source": [
    "↑これの、違う書き方↓"
   ]
  },
  {
   "cell_type": "code",
   "execution_count": 27,
   "metadata": {},
   "outputs": [
    {
     "name": "stdout",
     "output_type": "stream",
     "text": [
      "a is None!!\n"
     ]
    }
   ],
   "source": [
    "# ↓aがNoneの場合、falseと判定され、else文のほうが実行されるケース\n",
    "if a:\n",
    "    print(\"a has value!\")\n",
    "else:\n",
    "    print(\"a is None!!\")"
   ]
  },
  {
   "cell_type": "markdown",
   "metadata": {},
   "source": [
    "↓ aに、値をいれて、、"
   ]
  },
  {
   "cell_type": "code",
   "execution_count": 28,
   "metadata": {},
   "outputs": [],
   "source": [
    "a = 10"
   ]
  },
  {
   "cell_type": "markdown",
   "metadata": {},
   "source": [
    "↓同じif else文を実行してみると、、"
   ]
  },
  {
   "cell_type": "code",
   "execution_count": 29,
   "metadata": {},
   "outputs": [
    {
     "name": "stdout",
     "output_type": "stream",
     "text": [
      "a has value!\n"
     ]
    }
   ],
   "source": [
    "# ↓aがNoneの場合、falseと判定され、else文のほうが実行されるケース\n",
    "if a:\n",
    "    print(\"a has value!\")\n",
    "else:\n",
    "    print(\"a is None!!\")"
   ]
  },
  {
   "cell_type": "markdown",
   "metadata": {},
   "source": [
    "↑当然、値有りのほうで判定される"
   ]
  },
  {
   "cell_type": "markdown",
   "metadata": {},
   "source": [
    "↓よくやる書き方は・・、"
   ]
  },
  {
   "cell_type": "code",
   "execution_count": 30,
   "metadata": {},
   "outputs": [],
   "source": [
    "if not a:\n",
    "    a = 10"
   ]
  },
  {
   "cell_type": "code",
   "execution_count": 31,
   "metadata": {},
   "outputs": [
    {
     "data": {
      "text/plain": [
       "10"
      ]
     },
     "execution_count": 31,
     "metadata": {},
     "output_type": "execute_result"
    }
   ],
   "source": [
    "a"
   ]
  },
  {
   "cell_type": "markdown",
   "metadata": {},
   "source": [
    "↑こんな感じで、aがNoneの場合に値をセットする、みたいな。"
   ]
  },
  {
   "cell_type": "code",
   "execution_count": null,
   "metadata": {},
   "outputs": [],
   "source": []
  },
  {
   "cell_type": "code",
   "execution_count": null,
   "metadata": {},
   "outputs": [],
   "source": []
  },
  {
   "cell_type": "code",
   "execution_count": 41,
   "metadata": {},
   "outputs": [
    {
     "name": "stdout",
     "output_type": "stream",
     "text": [
      "何歳ですか？30\n",
      "あなたは30歳ですね。ようこそ、カジノへ！！\n",
      "何のゲームで遊びますか？1\n",
      "ルーレットですね。\n"
     ]
    }
   ],
   "source": [
    "age = int(input(\"何歳ですか？\"))\n",
    "casino_age = 18\n",
    "if age >= casino_age:\n",
    "    print(f\"あなたは{age}歳ですね。ようこそ、カジノへ！！\")\n",
    "    game_no = int(input(\"何のゲームで遊びますか？\"))\n",
    "    if game_no == 1:\n",
    "        print(\"ルーレットですね。\")\n",
    "    elif game_no == 2:\n",
    "        print(\"ブラックジャックですね\")\n",
    "    elif game_no == 3:\n",
    "        print(\"ポーカーですね\")\n",
    "else:\n",
    "    print(f\"あなたは{age}歳ですね。18歳未満はカジノへ入場できません\")"
   ]
  },
  {
   "cell_type": "markdown",
   "metadata": {},
   "source": [
    "↓ゲーム選択のやり方を変更"
   ]
  },
  {
   "cell_type": "code",
   "execution_count": 46,
   "metadata": {},
   "outputs": [
    {
     "name": "stdout",
     "output_type": "stream",
     "text": [
      "何歳ですか？30\n",
      "あなたは30歳ですね。ようこそ、カジノへ！！\n",
      "プレイするゲームを選択してください\n",
      "１：ルーレット\n",
      "２：ブラックジャック\n",
      "３：ポーカー\n",
      "5\n",
      "1-3のどれかを選んでください\n"
     ]
    }
   ],
   "source": [
    "age = int(input(\"何歳ですか？\"))\n",
    "casino_age = 18\n",
    "game_guide = \"\"\"プレイするゲームを選択してください\n",
    "１：ルーレット\n",
    "２：ブラックジャック\n",
    "３：ポーカー\n",
    "\"\"\"\n",
    "\n",
    "if age >= casino_age:\n",
    "    print(f\"あなたは{age}歳ですね。ようこそ、カジノへ！！\")\n",
    "    game_no = int(input(game_guide))\n",
    "    if game_no == 1:\n",
    "        print(\"ルーレットですね。\")\n",
    "    elif game_no == 2:\n",
    "        print(\"ブラックジャックですね\")\n",
    "    elif game_no == 3:\n",
    "        print(\"ポーカーですね\")\n",
    "    else:\n",
    "        print(\"1-3のどれかを選んでください\")\n",
    "else:\n",
    "    print(f\"あなたは{age}歳ですね。18歳未満はカジノへ入場できません\")"
   ]
  },
  {
   "cell_type": "code",
   "execution_count": null,
   "metadata": {},
   "outputs": [],
   "source": []
  },
  {
   "cell_type": "markdown",
   "metadata": {},
   "source": [
    "2021/6/18"
   ]
  },
  {
   "cell_type": "markdown",
   "metadata": {},
   "source": [
    "＊リスト型のメソッド"
   ]
  },
  {
   "cell_type": "code",
   "execution_count": 10,
   "metadata": {},
   "outputs": [],
   "source": [
    "l = [\"a\", \"b\", \"c\", \"d\"]"
   ]
  },
  {
   "cell_type": "code",
   "execution_count": 11,
   "metadata": {},
   "outputs": [],
   "source": [
    "l.append(\"e\")"
   ]
  },
  {
   "cell_type": "code",
   "execution_count": 12,
   "metadata": {},
   "outputs": [
    {
     "data": {
      "text/plain": [
       "['a', 'b', 'c', 'd', 'e']"
      ]
     },
     "execution_count": 12,
     "metadata": {},
     "output_type": "execute_result"
    }
   ],
   "source": [
    "l"
   ]
  },
  {
   "cell_type": "code",
   "execution_count": 13,
   "metadata": {},
   "outputs": [],
   "source": [
    "l.remove(\"e\")"
   ]
  },
  {
   "cell_type": "code",
   "execution_count": 14,
   "metadata": {},
   "outputs": [
    {
     "data": {
      "text/plain": [
       "['a', 'b', 'c', 'd']"
      ]
     },
     "execution_count": 14,
     "metadata": {},
     "output_type": "execute_result"
    }
   ],
   "source": [
    "l"
   ]
  },
  {
   "cell_type": "code",
   "execution_count": 15,
   "metadata": {},
   "outputs": [],
   "source": [
    "l.insert(3, \"e\")"
   ]
  },
  {
   "cell_type": "code",
   "execution_count": 16,
   "metadata": {},
   "outputs": [
    {
     "data": {
      "text/plain": [
       "['a', 'b', 'c', 'e', 'd']"
      ]
     },
     "execution_count": 16,
     "metadata": {},
     "output_type": "execute_result"
    }
   ],
   "source": [
    "l"
   ]
  },
  {
   "cell_type": "code",
   "execution_count": 21,
   "metadata": {},
   "outputs": [],
   "source": [
    "l.sort()"
   ]
  },
  {
   "cell_type": "code",
   "execution_count": 22,
   "metadata": {},
   "outputs": [
    {
     "name": "stdout",
     "output_type": "stream",
     "text": [
      "['a', 'b', 'c', 'd', 'e']\n"
     ]
    }
   ],
   "source": [
    "print(l)"
   ]
  },
  {
   "cell_type": "code",
   "execution_count": 18,
   "metadata": {},
   "outputs": [
    {
     "data": {
      "text/plain": [
       "['a', 'b', 'c', 'd', 'e']"
      ]
     },
     "execution_count": 18,
     "metadata": {},
     "output_type": "execute_result"
    }
   ],
   "source": [
    "l"
   ]
  },
  {
   "cell_type": "code",
   "execution_count": 24,
   "metadata": {},
   "outputs": [],
   "source": [
    "l.sort(reverse=True)"
   ]
  },
  {
   "cell_type": "code",
   "execution_count": 25,
   "metadata": {},
   "outputs": [
    {
     "data": {
      "text/plain": [
       "['e', 'd', 'c', 'b', 'a']"
      ]
     },
     "execution_count": 25,
     "metadata": {},
     "output_type": "execute_result"
    }
   ],
   "source": [
    "l"
   ]
  },
  {
   "cell_type": "code",
   "execution_count": null,
   "metadata": {},
   "outputs": [],
   "source": []
  },
  {
   "cell_type": "markdown",
   "metadata": {},
   "source": [
    "2021/6/22"
   ]
  },
  {
   "cell_type": "markdown",
   "metadata": {},
   "source": [
    "*スライシング（Slicing）"
   ]
  },
  {
   "cell_type": "code",
   "execution_count": 1,
   "metadata": {},
   "outputs": [],
   "source": [
    "even = [2, 4, 6, 8, 10, 12]"
   ]
  },
  {
   "cell_type": "code",
   "execution_count": 8,
   "metadata": {},
   "outputs": [
    {
     "data": {
      "text/plain": [
       "[2, 4, 6, 8]"
      ]
     },
     "execution_count": 8,
     "metadata": {},
     "output_type": "execute_result"
    }
   ],
   "source": [
    "even[:4]"
   ]
  },
  {
   "cell_type": "code",
   "execution_count": 12,
   "metadata": {},
   "outputs": [
    {
     "data": {
      "text/plain": [
       "[10, 12]"
      ]
     },
     "execution_count": 12,
     "metadata": {},
     "output_type": "execute_result"
    }
   ],
   "source": [
    "even[4:]"
   ]
  },
  {
   "cell_type": "code",
   "execution_count": 15,
   "metadata": {},
   "outputs": [],
   "source": [
    "even = [i for i in range(0, 10)]"
   ]
  },
  {
   "cell_type": "code",
   "execution_count": 16,
   "metadata": {},
   "outputs": [
    {
     "data": {
      "text/plain": [
       "[0, 1, 2, 3, 4, 5, 6, 7, 8, 9]"
      ]
     },
     "execution_count": 16,
     "metadata": {},
     "output_type": "execute_result"
    }
   ],
   "source": [
    "even"
   ]
  },
  {
   "cell_type": "code",
   "execution_count": 17,
   "metadata": {
    "scrolled": true
   },
   "outputs": [
    {
     "data": {
      "text/plain": [
       "[0, 2, 4, 6, 8]"
      ]
     },
     "execution_count": 17,
     "metadata": {},
     "output_type": "execute_result"
    }
   ],
   "source": [
    "最初から最後まで、2ずつ増加（1つとばし）\n",
    "even[0::2]"
   ]
  },
  {
   "cell_type": "code",
   "execution_count": 20,
   "metadata": {},
   "outputs": [
    {
     "data": {
      "text/plain": [
       "[9, 8, 7, 6, 5, 4, 3, 2, 1, 0]"
      ]
     },
     "execution_count": 20,
     "metadata": {},
     "output_type": "execute_result"
    }
   ],
   "source": [
    "even[::-1]"
   ]
  },
  {
   "cell_type": "code",
   "execution_count": 21,
   "metadata": {},
   "outputs": [
    {
     "data": {
      "text/plain": [
       "[9, 7, 5, 3, 1]"
      ]
     },
     "execution_count": 21,
     "metadata": {},
     "output_type": "execute_result"
    }
   ],
   "source": [
    "even[::-2]"
   ]
  },
  {
   "cell_type": "markdown",
   "metadata": {},
   "source": [
    "*リスト結合"
   ]
  },
  {
   "cell_type": "code",
   "execution_count": 22,
   "metadata": {},
   "outputs": [
    {
     "data": {
      "text/plain": [
       "[1, 2, 3, 4, 5, 6]"
      ]
     },
     "execution_count": 22,
     "metadata": {},
     "output_type": "execute_result"
    }
   ],
   "source": [
    "[1, 2, 3] + [4, 5, 6]"
   ]
  },
  {
   "cell_type": "code",
   "execution_count": 24,
   "metadata": {},
   "outputs": [],
   "source": [
    "a = [1 ,2, 3]\n",
    "b = [4, 5, 6]"
   ]
  },
  {
   "cell_type": "code",
   "execution_count": 25,
   "metadata": {},
   "outputs": [
    {
     "data": {
      "text/plain": [
       "[1, 2, 3, 4, 5, 6]"
      ]
     },
     "execution_count": 25,
     "metadata": {},
     "output_type": "execute_result"
    }
   ],
   "source": [
    "a+b"
   ]
  },
  {
   "cell_type": "code",
   "execution_count": 27,
   "metadata": {},
   "outputs": [],
   "source": [
    "a.append(b)"
   ]
  },
  {
   "cell_type": "code",
   "execution_count": 28,
   "metadata": {},
   "outputs": [
    {
     "data": {
      "text/plain": [
       "[1, 2, 3, [4, 5, 6]]"
      ]
     },
     "execution_count": 28,
     "metadata": {},
     "output_type": "execute_result"
    }
   ],
   "source": [
    "a"
   ]
  },
  {
   "cell_type": "code",
   "execution_count": 29,
   "metadata": {},
   "outputs": [],
   "source": [
    "a = [1 ,2, 3]\n",
    "b = [4, 5, 6]"
   ]
  },
  {
   "cell_type": "code",
   "execution_count": 30,
   "metadata": {},
   "outputs": [],
   "source": [
    "a += b"
   ]
  },
  {
   "cell_type": "code",
   "execution_count": 31,
   "metadata": {},
   "outputs": [
    {
     "data": {
      "text/plain": [
       "[1, 2, 3, 4, 5, 6]"
      ]
     },
     "execution_count": 31,
     "metadata": {},
     "output_type": "execute_result"
    }
   ],
   "source": [
    "a"
   ]
  },
  {
   "cell_type": "markdown",
   "metadata": {},
   "source": [
    "＊join　と　split"
   ]
  },
  {
   "cell_type": "code",
   "execution_count": 42,
   "metadata": {},
   "outputs": [],
   "source": [
    "list = [\"Hi\", \"my\", \"name\", \"is\", \"John\"]"
   ]
  },
  {
   "cell_type": "code",
   "execution_count": 43,
   "metadata": {},
   "outputs": [],
   "source": [
    "text = \" \".join(list)"
   ]
  },
  {
   "cell_type": "code",
   "execution_count": 44,
   "metadata": {},
   "outputs": [
    {
     "data": {
      "text/plain": [
       "'Hi my name is John'"
      ]
     },
     "execution_count": 44,
     "metadata": {},
     "output_type": "execute_result"
    }
   ],
   "source": [
    "text"
   ]
  },
  {
   "cell_type": "code",
   "execution_count": 46,
   "metadata": {},
   "outputs": [
    {
     "data": {
      "text/plain": [
       "['Hi', 'my', 'name', 'is', 'John']"
      ]
     },
     "execution_count": 46,
     "metadata": {},
     "output_type": "execute_result"
    }
   ],
   "source": [
    "text.split()"
   ]
  },
  {
   "cell_type": "code",
   "execution_count": 47,
   "metadata": {},
   "outputs": [
    {
     "data": {
      "text/plain": [
       "['Hi', 'my', 'name', 'is', 'John']"
      ]
     },
     "execution_count": 47,
     "metadata": {},
     "output_type": "execute_result"
    }
   ],
   "source": [
    "text.split(\" \")"
   ]
  },
  {
   "cell_type": "code",
   "execution_count": 48,
   "metadata": {},
   "outputs": [
    {
     "ename": "ValueError",
     "evalue": "empty separator",
     "output_type": "error",
     "traceback": [
      "\u001b[1;31m---------------------------------------------------------------------------\u001b[0m",
      "\u001b[1;31mValueError\u001b[0m                                Traceback (most recent call last)",
      "\u001b[1;32m<ipython-input-48-ad9dc5e9be31>\u001b[0m in \u001b[0;36m<module>\u001b[1;34m\u001b[0m\n\u001b[1;32m----> 1\u001b[1;33m \u001b[0mtext\u001b[0m\u001b[1;33m.\u001b[0m\u001b[0msplit\u001b[0m\u001b[1;33m(\u001b[0m\u001b[1;34m\"\"\u001b[0m\u001b[1;33m)\u001b[0m\u001b[1;33m\u001b[0m\u001b[1;33m\u001b[0m\u001b[0m\n\u001b[0m",
      "\u001b[1;31mValueError\u001b[0m: empty separator"
     ]
    }
   ],
   "source": [
    "text.split(\"\")"
   ]
  },
  {
   "cell_type": "code",
   "execution_count": 39,
   "metadata": {},
   "outputs": [],
   "source": [
    "join_list = \" ＊＊\".join(list)"
   ]
  },
  {
   "cell_type": "code",
   "execution_count": 40,
   "metadata": {},
   "outputs": [
    {
     "data": {
      "text/plain": [
       "'Hi ＊＊my ＊＊name ＊＊is ＊＊John'"
      ]
     },
     "execution_count": 40,
     "metadata": {},
     "output_type": "execute_result"
    }
   ],
   "source": [
    "join_list"
   ]
  },
  {
   "cell_type": "code",
   "execution_count": 41,
   "metadata": {},
   "outputs": [
    {
     "data": {
      "text/plain": [
       "['Hi ', 'my ', 'name ', 'is ', 'John']"
      ]
     },
     "execution_count": 41,
     "metadata": {},
     "output_type": "execute_result"
    }
   ],
   "source": [
    "join_list.split(\"＊＊\")"
   ]
  },
  {
   "cell_type": "code",
   "execution_count": null,
   "metadata": {},
   "outputs": [],
   "source": []
  },
  {
   "cell_type": "code",
   "execution_count": 49,
   "metadata": {},
   "outputs": [],
   "source": [
    "filename = \"sample.py\""
   ]
  },
  {
   "cell_type": "code",
   "execution_count": 52,
   "metadata": {},
   "outputs": [
    {
     "data": {
      "text/plain": [
       "'sample'"
      ]
     },
     "execution_count": 52,
     "metadata": {},
     "output_type": "execute_result"
    }
   ],
   "source": [
    "filename.split(\".\")[0]"
   ]
  },
  {
   "cell_type": "code",
   "execution_count": null,
   "metadata": {},
   "outputs": [],
   "source": []
  },
  {
   "cell_type": "markdown",
   "metadata": {},
   "source": [
    "*in演算子"
   ]
  },
  {
   "cell_type": "code",
   "execution_count": 57,
   "metadata": {},
   "outputs": [
    {
     "name": "stdout",
     "output_type": "stream",
     "text": [
      "好きなフルーツを入力してください：aaa\n",
      "['apple', 'banana', 'orange', 'melon', 'aaa']\n"
     ]
    }
   ],
   "source": [
    "list = [\"apple\", \"banana\", \"orange\", \"melon\", \"grapes\", \"peach\"]\n",
    "\n",
    "favorite = input(\"好きなフルーツを入力してください：\")\n",
    "if favorite in list:\n",
    "    list.remove(favorite)\n",
    "else:\n",
    "    list.append(favorite)\n",
    "print(list)"
   ]
  },
  {
   "cell_type": "code",
   "execution_count": null,
   "metadata": {},
   "outputs": [],
   "source": []
  },
  {
   "cell_type": "markdown",
   "metadata": {},
   "source": [
    "＊３１．forループ"
   ]
  },
  {
   "cell_type": "code",
   "execution_count": 58,
   "metadata": {},
   "outputs": [],
   "source": [
    "fruits = [\"apple\", \"banana\", \"orange\", \"melon\", \"grapes\", \"peach\"]"
   ]
  },
  {
   "cell_type": "code",
   "execution_count": 59,
   "metadata": {},
   "outputs": [
    {
     "name": "stdout",
     "output_type": "stream",
     "text": [
      "I love apple!!\n",
      "I love banana!!\n",
      "I love orange!!\n",
      "I love melon!!\n",
      "I love grapes!!\n",
      "I love peach!!\n"
     ]
    }
   ],
   "source": [
    "for fruit in fruits:\n",
    "    print(f\"I love {fruit}!!\")"
   ]
  },
  {
   "cell_type": "code",
   "execution_count": 62,
   "metadata": {},
   "outputs": [
    {
     "name": "stdout",
     "output_type": "stream",
     "text": [
      "char:H\n",
      "char:e\n",
      "char:l\n",
      "char:l\n",
      "char:o\n",
      "char: \n",
      "char:w\n",
      "char:o\n",
      "char:r\n",
      "char:l\n",
      "char:d\n",
      "char:!\n",
      "char:!\n"
     ]
    }
   ],
   "source": [
    "for char in \"Hello world!!\":\n",
    "    print(f\"char:{char}\")"
   ]
  },
  {
   "cell_type": "markdown",
   "metadata": {},
   "source": [
    "＊チャレンジ１"
   ]
  },
  {
   "cell_type": "code",
   "execution_count": 64,
   "metadata": {},
   "outputs": [
    {
     "name": "stdout",
     "output_type": "stream",
     "text": [
      "好きなフルーツは？：grapes\n",
      "appleはとくに好きではないです\n",
      "bananaはとくに好きではないです\n",
      "orangeはとくに好きではないです\n",
      "melonはとくに好きではないです\n",
      "grapesは好きです\n",
      "peachはとくに好きではないです\n"
     ]
    }
   ],
   "source": [
    "fruits = [\"apple\", \"banana\", \"orange\", \"melon\", \"grapes\", \"peach\"]\n",
    "\n",
    "favorite = input(f\"好きなフルーツは？：\")\n",
    "\n",
    "for fruit in fruits:\n",
    "    if fruit == favorite:\n",
    "        print(f\"{fruit}は好きです\")\n",
    "    else:\n",
    "        print(f\"{fruit}はとくに好きではないです\")"
   ]
  },
  {
   "cell_type": "markdown",
   "metadata": {},
   "source": [
    "＊チャレンジ２"
   ]
  },
  {
   "cell_type": "code",
   "execution_count": 1,
   "metadata": {},
   "outputs": [
    {
     "name": "stdin",
     "output_type": "stream",
     "text": [
      "appleは好きですか？（yes/no）： yes\n",
      "bananaは好きですか？（yes/no）： no\n",
      "orangeは好きですか？（yes/no）： yes\n",
      "melonは好きですか？（yes/no）： no\n",
      "grapesは好きですか？（yes/no）： yes\n",
      "peachは好きですか？（yes/no）： no\n"
     ]
    },
    {
     "name": "stdout",
     "output_type": "stream",
     "text": [
      "好きな果物ののリスト：['apple', 'orange', 'grapes']\n",
      "好きではない果物ののリスト：['banana', 'melon', 'peach']\n"
     ]
    }
   ],
   "source": [
    "fruits = [\"apple\", \"banana\", \"orange\", \"melon\", \"grapes\", \"peach\"]\n",
    "\n",
    "favorite_list = []\n",
    "nonfavorite_list = []\n",
    "\n",
    "for fruit in fruits:\n",
    "    question = input(f\"{fruit}は好きですか？（yes/no）：\")\n",
    "    if question == \"yes\":\n",
    "        favorite_list.append(fruit)\n",
    "    else:\n",
    "        nonfavorite_list.append(fruit)\n",
    "\n",
    "print(f\"好きな果物ののリスト：{favorite_list}\")\n",
    "print(f\"好きではない果物ののリスト：{nonfavorite_list}\")"
   ]
  },
  {
   "cell_type": "code",
   "execution_count": null,
   "metadata": {},
   "outputs": [],
   "source": []
  },
  {
   "cell_type": "markdown",
   "metadata": {},
   "source": [
    "2021/6/23"
   ]
  },
  {
   "cell_type": "markdown",
   "metadata": {},
   "source": [
    "32．range"
   ]
  },
  {
   "cell_type": "code",
   "execution_count": 5,
   "metadata": {},
   "outputs": [
    {
     "name": "stdout",
     "output_type": "stream",
     "text": [
      "0\n",
      "1\n",
      "2\n",
      "3\n"
     ]
    }
   ],
   "source": [
    "for i in range(0, 4, 1):\n",
    "    print(i)"
   ]
  },
  {
   "cell_type": "code",
   "execution_count": 6,
   "metadata": {},
   "outputs": [
    {
     "name": "stdout",
     "output_type": "stream",
     "text": [
      "0\n",
      "1\n",
      "2\n",
      "3\n"
     ]
    }
   ],
   "source": [
    "for i in range(0, 4):\n",
    "    print(i)"
   ]
  },
  {
   "cell_type": "code",
   "execution_count": 4,
   "metadata": {},
   "outputs": [
    {
     "name": "stdout",
     "output_type": "stream",
     "text": [
      "0\n",
      "1\n",
      "2\n",
      "3\n"
     ]
    }
   ],
   "source": [
    "for i in range(4):\n",
    "    print(i)"
   ]
  },
  {
   "cell_type": "code",
   "execution_count": 8,
   "metadata": {},
   "outputs": [
    {
     "name": "stdout",
     "output_type": "stream",
     "text": [
      "hello\n",
      "hello\n",
      "hello\n",
      "hello\n"
     ]
    }
   ],
   "source": [
    "# iじゃなくて_をつかう\n",
    "for _ in range(4):\n",
    "    print(\"hello\")"
   ]
  },
  {
   "cell_type": "markdown",
   "metadata": {},
   "source": [
    "＊チャレンジ"
   ]
  },
  {
   "cell_type": "code",
   "execution_count": 15,
   "metadata": {},
   "outputs": [
    {
     "name": "stdout",
     "output_type": "stream",
     "text": [
      "1\n",
      "2\n",
      "3 Fizz\n",
      "4\n",
      "5 Buzz\n",
      "6 Fizz\n",
      "7\n",
      "8\n",
      "9 Fizz\n",
      "10 Buzz\n",
      "11\n",
      "12 Fizz\n",
      "13\n",
      "14\n",
      "15 FizzBuzz\n",
      "16\n",
      "17\n",
      "18 Fizz\n",
      "19\n",
      "20 Buzz\n",
      "21 Fizz\n",
      "22\n",
      "23\n",
      "24 Fizz\n",
      "25 Buzz\n",
      "26\n",
      "27 Fizz\n",
      "28\n",
      "29\n",
      "30 FizzBuzz\n",
      "31\n",
      "32\n",
      "33 Fizz\n",
      "34\n",
      "35 Buzz\n",
      "36 Fizz\n",
      "37\n",
      "38\n",
      "39 Fizz\n",
      "40 Buzz\n",
      "41\n",
      "42 Fizz\n",
      "43\n",
      "44\n",
      "45 FizzBuzz\n",
      "46\n",
      "47\n",
      "48 Fizz\n",
      "49\n",
      "50 Buzz\n"
     ]
    }
   ],
   "source": [
    "for i in range(1, 51):\n",
    "    if i%3 == 0 and i%5 == 0:\n",
    "        print(i, \"FizzBuzz\")\n",
    "    elif i%3 == 0:\n",
    "        print(i, \"Fizz\")\n",
    "    elif i%5 ==0:\n",
    "        print(i, \"Buzz\")\n",
    "    else:\n",
    "        print(i)"
   ]
  },
  {
   "cell_type": "code",
   "execution_count": null,
   "metadata": {},
   "outputs": [],
   "source": []
  },
  {
   "cell_type": "markdown",
   "metadata": {},
   "source": [
    "＊2021/6/24"
   ]
  },
  {
   "cell_type": "markdown",
   "metadata": {},
   "source": [
    "＊whileループ"
   ]
  },
  {
   "cell_type": "code",
   "execution_count": 1,
   "metadata": {},
   "outputs": [],
   "source": [
    "count = 0"
   ]
  },
  {
   "cell_type": "code",
   "execution_count": 2,
   "metadata": {},
   "outputs": [
    {
     "name": "stdout",
     "output_type": "stream",
     "text": [
      "0\n",
      "1\n",
      "2\n",
      "3\n",
      "4\n",
      "5\n",
      "6\n",
      "7\n",
      "8\n",
      "9\n"
     ]
    }
   ],
   "source": [
    "while count < 10:\n",
    "    print(count)\n",
    "    count += 1"
   ]
  },
  {
   "cell_type": "code",
   "execution_count": 3,
   "metadata": {},
   "outputs": [
    {
     "name": "stdout",
     "output_type": "stream",
     "text": [
      "あなたは何歳ですか？？1000\n",
      "入力された値は正しくありません\n",
      "あなたは何歳ですか？？-1\n",
      "入力された値は正しくありません\n",
      "あなたは何歳ですか？？0\n",
      "あなたは0歳ですね\n"
     ]
    }
   ],
   "source": [
    "while True:\n",
    "    age = int(input(\"あなたは何歳ですか？？\"))\n",
    "    if not 0 <= age < 120:\n",
    "        print(\"入力された値は正しくありません\")\n",
    "        continue\n",
    "    else:\n",
    "        print(f\"あなたは{age}歳ですね\")\n",
    "        break"
   ]
  },
  {
   "cell_type": "markdown",
   "metadata": {},
   "source": [
    "＊チャレンジ"
   ]
  },
  {
   "cell_type": "code",
   "execution_count": 6,
   "metadata": {},
   "outputs": [
    {
     "name": "stdout",
     "output_type": "stream",
     "text": [
      "何歳ですか？30\n",
      "あなたは30歳ですね。ようこそ、カジノへ！！\n",
      "プレイするゲームを選択してください\n",
      "１：ルーレット\n",
      "２：ブラックジャック\n",
      "３：ポーカー\n",
      "4\n",
      "1-3のどれかを選んでください\n",
      "プレイするゲームを選択してください\n",
      "１：ルーレット\n",
      "２：ブラックジャック\n",
      "３：ポーカー\n",
      "5\n",
      "1-3のどれかを選んでください\n",
      "プレイするゲームを選択してください\n",
      "１：ルーレット\n",
      "２：ブラックジャック\n",
      "３：ポーカー\n",
      "2\n",
      "ブラックジャックですね\n"
     ]
    }
   ],
   "source": [
    "age = int(input(\"何歳ですか？\"))\n",
    "casino_age = 18\n",
    "game_guide = \"\"\"プレイするゲームを選択してください\n",
    "１：ルーレット\n",
    "２：ブラックジャック\n",
    "３：ポーカー\n",
    "\"\"\"\n",
    "\n",
    "if age >= casino_age:\n",
    "    print(f\"あなたは{age}歳ですね。ようこそ、カジノへ！！\")\n",
    "    while True:\n",
    "        game_no = int(input(game_guide))\n",
    "        if game_no == 1:\n",
    "            print(\"ルーレットですね。\")\n",
    "            break\n",
    "        elif game_no == 2:\n",
    "            print(\"ブラックジャックですね\")\n",
    "            break\n",
    "        elif game_no == 3:\n",
    "            print(\"ポーカーですね\")\n",
    "            break\n",
    "        else:\n",
    "            print(\"1-3のどれかを選んでください\")\n",
    "            continue\n",
    "else:\n",
    "    print(f\"あなたは{age}歳ですね。18歳未満はカジノへ入場できません\")"
   ]
  },
  {
   "cell_type": "code",
   "execution_count": null,
   "metadata": {},
   "outputs": [],
   "source": []
  },
  {
   "cell_type": "markdown",
   "metadata": {},
   "source": [
    "2021/06/25"
   ]
  },
  {
   "cell_type": "markdown",
   "metadata": {},
   "source": [
    "34．ループのelse"
   ]
  },
  {
   "cell_type": "markdown",
   "metadata": {},
   "source": [
    "for文のelse"
   ]
  },
  {
   "cell_type": "code",
   "execution_count": 1,
   "metadata": {},
   "outputs": [
    {
     "name": "stdout",
     "output_type": "stream",
     "text": [
      "apple\n",
      "peach\n",
      "grapes\n",
      "banana\n",
      "ループしゅうりょう\n"
     ]
    }
   ],
   "source": [
    "fruits = [\"apple\", \"peach\", \"grapes\", \"banana\"]\n",
    "\n",
    "for fruit in fruits:\n",
    "    print(fruit)\n",
    "else:\n",
    "    print(\"ループしゅうりょう\")"
   ]
  },
  {
   "cell_type": "code",
   "execution_count": 9,
   "metadata": {},
   "outputs": [
    {
     "name": "stdout",
     "output_type": "stream",
     "text": [
      "あなたの好きなフルーツは、appleですか？？・・y/n：n\n",
      "違いましたか・・。\n",
      "あなたの好きなフルーツは、peachですか？？・・y/n：y\n",
      "見つかってよかったですね\n"
     ]
    }
   ],
   "source": [
    "fruits = [\"apple\", \"peach\", \"grapes\", \"banana\"]\n",
    "\n",
    "for fruit in fruits:\n",
    "    choice = input(f\"あなたの好きなフルーツは、{fruit}ですか？？・・y/n：\")\n",
    "    if choice == \"y\":\n",
    "        print(\"見つかってよかったですね\")\n",
    "        break\n",
    "    else:\n",
    "        print(\"違いましたか・・。\")\n",
    "else:\n",
    "    print(\"どれも違うみたいですね。。\")"
   ]
  },
  {
   "cell_type": "code",
   "execution_count": null,
   "metadata": {},
   "outputs": [],
   "source": []
  },
  {
   "cell_type": "markdown",
   "metadata": {},
   "source": [
    "while文のelse"
   ]
  },
  {
   "cell_type": "code",
   "execution_count": 12,
   "metadata": {},
   "outputs": [
    {
     "name": "stdout",
     "output_type": "stream",
     "text": [
      "10\n",
      "9\n",
      "8\n",
      "7\n",
      "6\n",
      "5\n",
      "4\n",
      "3\n",
      "2\n",
      "1\n",
      "countダウン終了、発射\n"
     ]
    }
   ],
   "source": [
    "count = 10\n",
    "while count > 0:\n",
    "    print(count)\n",
    "    count -= 1\n",
    "else:\n",
    "    print(\"countダウン終了、発射\")"
   ]
  },
  {
   "cell_type": "code",
   "execution_count": null,
   "metadata": {},
   "outputs": [],
   "source": []
  },
  {
   "cell_type": "code",
   "execution_count": 21,
   "metadata": {},
   "outputs": [
    {
     "name": "stdout",
     "output_type": "stream",
     "text": [
      "1回200円のゲームに参加しますか？（残高は1000円)・・y/n：y\n",
      "800\n"
     ]
    }
   ],
   "source": [
    "balance = 1000\n",
    "game_price = 200\n",
    "\n",
    "choice = input(f\"1回{game_price}円のゲームに参加しますか？（残高は{balance}円)・・y/n：\")\n",
    "if choice == \"y\":\n",
    "    balance -= game_price\n",
    "    print(balance)\n",
    "elif choice == \"n\":\n",
    "    print(\"また遊びましょう\")\n",
    "#     break\n",
    "else:\n",
    "    print(\"yかnで答えてください\")"
   ]
  },
  {
   "cell_type": "code",
   "execution_count": 20,
   "metadata": {},
   "outputs": [
    {
     "name": "stdout",
     "output_type": "stream",
     "text": [
      "1回200円のゲームに参加しますか？（残高は1000円)・・y/n：y\n",
      "800\n",
      "1回200円のゲームに参加しますか？（残高は800円)・・y/n：y\n",
      "600\n",
      "1回200円のゲームに参加しますか？（残高は600円)・・y/n：y\n",
      "400\n",
      "1回200円のゲームに参加しますか？（残高は400円)・・y/n：y\n",
      "200\n",
      "1回200円のゲームに参加しますか？（残高は200円)・・y/n：y\n",
      "0\n"
     ]
    }
   ],
   "source": [
    "balance = 1000\n",
    "game_price = 200\n",
    "\n",
    "while balance >= game_price:\n",
    "    choice = input(f\"1回{game_price}円のゲームに参加しますか？（残高は{balance}円)・・y/n：\")\n",
    "    if choice == \"y\":\n",
    "        balance -= game_price\n",
    "        print(balance)\n",
    "    elif choice == \"n\":\n",
    "        print(\"また遊びましょう\")\n",
    "        break\n",
    "    else:\n",
    "        print(\"yかnで答えてください\")"
   ]
  },
  {
   "cell_type": "code",
   "execution_count": 22,
   "metadata": {},
   "outputs": [
    {
     "name": "stdout",
     "output_type": "stream",
     "text": [
      "1回200円のゲームに参加しますか？（残高は1000円)・・y/n：y\n",
      "1回200円のゲームに参加しますか？（残高は800円)・・y/n：y\n",
      "1回200円のゲームに参加しますか？（残高は600円)・・y/n：y\n",
      "1回200円のゲームに参加しますか？（残高は400円)・・y/n：y\n",
      "1回200円のゲームに参加しますか？（残高は200円)・・y/n：y\n",
      "あなたの残高は0円です。もうお金なくなっちゃいましたね。\n"
     ]
    }
   ],
   "source": [
    "balance = 1000\n",
    "game_price = 200\n",
    "\n",
    "while balance >= game_price:\n",
    "    choice = input(f\"1回{game_price}円のゲームに参加しますか？（残高は{balance}円)・・y/n：\")\n",
    "    if choice == \"y\":\n",
    "        balance -= game_price\n",
    "    elif choice == \"n\":\n",
    "        print(\"また遊びましょう\")\n",
    "        break\n",
    "    else:\n",
    "        print(\"yかnで答えてください\")\n",
    "else:\n",
    "    print(f\"あなたの残高は{balance}円です。もうお金なくなっちゃいましたね。\")"
   ]
  },
  {
   "cell_type": "code",
   "execution_count": null,
   "metadata": {},
   "outputs": [],
   "source": []
  },
  {
   "cell_type": "markdown",
   "metadata": {},
   "source": [
    "35.enumerate"
   ]
  },
  {
   "cell_type": "code",
   "execution_count": 27,
   "metadata": {},
   "outputs": [
    {
     "name": "stdout",
     "output_type": "stream",
     "text": [
      "(0, 'apple')\n",
      "(1, 'peach')\n",
      "(2, 'grapes')\n",
      "(3, 'banana')\n"
     ]
    }
   ],
   "source": [
    "fruits = [\"apple\", \"peach\", \"grapes\", \"banana\"]\n",
    "for x in enumerate(fruits):\n",
    "    print(x)"
   ]
  },
  {
   "cell_type": "code",
   "execution_count": 23,
   "metadata": {},
   "outputs": [
    {
     "name": "stdout",
     "output_type": "stream",
     "text": [
      "0 apple\n",
      "1 peach\n",
      "2 grapes\n",
      "3 banana\n"
     ]
    }
   ],
   "source": [
    "fruits = [\"apple\", \"peach\", \"grapes\", \"banana\"]\n",
    "for idx, fruit in enumerate(fruits):\n",
    "    print(idx, fruit)"
   ]
  },
  {
   "cell_type": "code",
   "execution_count": null,
   "metadata": {},
   "outputs": [],
   "source": []
  },
  {
   "cell_type": "markdown",
   "metadata": {},
   "source": [
    "36．リスト内包表記"
   ]
  },
  {
   "cell_type": "markdown",
   "metadata": {},
   "source": [
    "0, 1, 4, 9, 16, 25, ...　のリストを作りたい"
   ]
  },
  {
   "cell_type": "code",
   "execution_count": 32,
   "metadata": {},
   "outputs": [
    {
     "data": {
      "text/plain": [
       "[0, 1, 4, 9, 16, 25, 36, 49, 64, 81]"
      ]
     },
     "execution_count": 32,
     "metadata": {},
     "output_type": "execute_result"
    }
   ],
   "source": [
    "# ノーマル\n",
    "lst = []\n",
    "for i in range(10):\n",
    "    lst.append(i**2)\n",
    "lst"
   ]
  },
  {
   "cell_type": "code",
   "execution_count": 33,
   "metadata": {},
   "outputs": [
    {
     "data": {
      "text/plain": [
       "[0, 1, 4, 9, 16, 25, 36, 49, 64, 81]"
      ]
     },
     "execution_count": 33,
     "metadata": {},
     "output_type": "execute_result"
    }
   ],
   "source": [
    "# リスト内包表記\n",
    "lst2 = [i**2 for i in range(10)]\n",
    "lst2"
   ]
  },
  {
   "cell_type": "code",
   "execution_count": 34,
   "metadata": {},
   "outputs": [
    {
     "data": {
      "text/plain": [
       "[0, 4, 16, 36, 64]"
      ]
     },
     "execution_count": 34,
     "metadata": {},
     "output_type": "execute_result"
    }
   ],
   "source": [
    "# リスト内包表記・・iが偶数の時だけ\n",
    "lst2 = [i**2 for i in range(10) if i % 2 == 0]\n",
    "lst2"
   ]
  },
  {
   "cell_type": "code",
   "execution_count": null,
   "metadata": {},
   "outputs": [],
   "source": []
  },
  {
   "cell_type": "markdown",
   "metadata": {},
   "source": [
    "37.タプル型（tuples）・・・変更できないリスト。（）を使う"
   ]
  },
  {
   "cell_type": "code",
   "execution_count": 45,
   "metadata": {},
   "outputs": [
    {
     "data": {
      "text/plain": [
       "1990"
      ]
     },
     "execution_count": 45,
     "metadata": {},
     "output_type": "execute_result"
    }
   ],
   "source": [
    "date_of_birth = (1990, 2, 3)\n",
    "\n",
    "date_of_birth[0]"
   ]
  },
  {
   "cell_type": "markdown",
   "metadata": {},
   "source": [
    "↓リストは変更できるけど、、"
   ]
  },
  {
   "cell_type": "code",
   "execution_count": 43,
   "metadata": {},
   "outputs": [
    {
     "data": {
      "text/plain": [
       "[1991, 2, 3]"
      ]
     },
     "execution_count": 43,
     "metadata": {},
     "output_type": "execute_result"
    }
   ],
   "source": [
    "lst = [1990, 2, 3]\n",
    "lst[0] = 1991\n",
    "lst"
   ]
  },
  {
   "cell_type": "markdown",
   "metadata": {},
   "source": [
    "↓タプルは変更できない！"
   ]
  },
  {
   "cell_type": "code",
   "execution_count": 46,
   "metadata": {},
   "outputs": [
    {
     "ename": "TypeError",
     "evalue": "'tuple' object does not support item assignment",
     "output_type": "error",
     "traceback": [
      "\u001b[1;31m---------------------------------------------------------------------------\u001b[0m",
      "\u001b[1;31mTypeError\u001b[0m                                 Traceback (most recent call last)",
      "\u001b[1;32m<ipython-input-46-6fae2255b4d2>\u001b[0m in \u001b[0;36m<module>\u001b[1;34m\u001b[0m\n\u001b[0;32m      1\u001b[0m \u001b[0mtpl\u001b[0m \u001b[1;33m=\u001b[0m \u001b[1;33m(\u001b[0m\u001b[1;36m1990\u001b[0m\u001b[1;33m,\u001b[0m \u001b[1;36m2\u001b[0m\u001b[1;33m,\u001b[0m \u001b[1;36m3\u001b[0m\u001b[1;33m)\u001b[0m\u001b[1;33m\u001b[0m\u001b[1;33m\u001b[0m\u001b[0m\n\u001b[1;32m----> 2\u001b[1;33m \u001b[0mtpl\u001b[0m\u001b[1;33m[\u001b[0m\u001b[1;36m0\u001b[0m\u001b[1;33m]\u001b[0m \u001b[1;33m=\u001b[0m \u001b[1;36m1991\u001b[0m\u001b[1;33m\u001b[0m\u001b[1;33m\u001b[0m\u001b[0m\n\u001b[0m",
      "\u001b[1;31mTypeError\u001b[0m: 'tuple' object does not support item assignment"
     ]
    }
   ],
   "source": [
    "tpl = (1990, 2, 3)\n",
    "tpl[0] = 1991"
   ]
  },
  {
   "cell_type": "markdown",
   "metadata": {},
   "source": [
    "★タプルは、「変更したくないから使う」というよりは「変更する必要ないものに使う」という感じ（らしい）"
   ]
  },
  {
   "cell_type": "markdown",
   "metadata": {},
   "source": [
    "★また、タプルの使い道としては、アンパックして使う、というものがある↓"
   ]
  },
  {
   "cell_type": "markdown",
   "metadata": {},
   "source": [
    "↓「アンパック」してみる"
   ]
  },
  {
   "cell_type": "code",
   "execution_count": 47,
   "metadata": {},
   "outputs": [
    {
     "name": "stdout",
     "output_type": "stream",
     "text": [
      "1990\n",
      "2\n",
      "3\n"
     ]
    }
   ],
   "source": [
    "date_of_birth = (1990, 2, 3)\n",
    "year, month, date = date_of_birth\n",
    "print(year)\n",
    "print(month)\n",
    "print(date)"
   ]
  },
  {
   "cell_type": "markdown",
   "metadata": {},
   "source": [
    "↑リストではアンパックすべきでない。要素が増えたり変更されたりするから。\n",
    "　もしリストでアンパックするようならば、それはタプル使ったほうが良い、ということになる。"
   ]
  },
  {
   "cell_type": "code",
   "execution_count": null,
   "metadata": {},
   "outputs": [],
   "source": []
  },
  {
   "cell_type": "markdown",
   "metadata": {},
   "source": [
    "38. ディクショナリ型"
   ]
  },
  {
   "cell_type": "code",
   "execution_count": 48,
   "metadata": {},
   "outputs": [
    {
     "data": {
      "text/plain": [
       "{'apple': 'red', 'lemon': 'yellow', 'grapes': 'purple'}"
      ]
     },
     "execution_count": 48,
     "metadata": {},
     "output_type": "execute_result"
    }
   ],
   "source": [
    "fruits_colors = {\"apple\": \"red\", \"lemon\": \"yellow\", \"grapes\": \"purple\"}\n",
    "fruits_colors"
   ]
  },
  {
   "cell_type": "code",
   "execution_count": 52,
   "metadata": {},
   "outputs": [
    {
     "data": {
      "text/plain": [
       "'red'"
      ]
     },
     "execution_count": 52,
     "metadata": {},
     "output_type": "execute_result"
    }
   ],
   "source": [
    "# キーからvalueを表示するケース\n",
    "fruits_colors[\"apple\"]"
   ]
  },
  {
   "cell_type": "code",
   "execution_count": 53,
   "metadata": {},
   "outputs": [
    {
     "ename": "KeyError",
     "evalue": "'red'",
     "output_type": "error",
     "traceback": [
      "\u001b[1;31m---------------------------------------------------------------------------\u001b[0m",
      "\u001b[1;31mKeyError\u001b[0m                                  Traceback (most recent call last)",
      "\u001b[1;32m<ipython-input-53-ef5b242b5d64>\u001b[0m in \u001b[0;36m<module>\u001b[1;34m\u001b[0m\n\u001b[0;32m      1\u001b[0m \u001b[1;31m# キーにredはないからエラーになるケース\u001b[0m\u001b[1;33m\u001b[0m\u001b[1;33m\u001b[0m\u001b[1;33m\u001b[0m\u001b[0m\n\u001b[1;32m----> 2\u001b[1;33m \u001b[0mfruits_colors\u001b[0m\u001b[1;33m[\u001b[0m\u001b[1;34m\"red\"\u001b[0m\u001b[1;33m]\u001b[0m\u001b[1;33m\u001b[0m\u001b[1;33m\u001b[0m\u001b[0m\n\u001b[0m",
      "\u001b[1;31mKeyError\u001b[0m: 'red'"
     ]
    }
   ],
   "source": [
    "# キーにredはないからエラーになるケース\n",
    "fruits_colors[\"red\"]"
   ]
  },
  {
   "cell_type": "markdown",
   "metadata": {},
   "source": [
    "↓key&valueを追加してみる"
   ]
  },
  {
   "cell_type": "code",
   "execution_count": 54,
   "metadata": {},
   "outputs": [],
   "source": [
    "fruits_colors[\"peach\"] = \"pink\""
   ]
  },
  {
   "cell_type": "code",
   "execution_count": 55,
   "metadata": {},
   "outputs": [
    {
     "data": {
      "text/plain": [
       "{'apple': 'red', 'lemon': 'yellow', 'grapes': 'purple', 'peach': 'pink'}"
      ]
     },
     "execution_count": 55,
     "metadata": {},
     "output_type": "execute_result"
    }
   ],
   "source": [
    "fruits_colors"
   ]
  },
  {
   "cell_type": "markdown",
   "metadata": {},
   "source": [
    "- keyはだいたい文字列\n",
    "- valueはオブジェクトなら何でも入る"
   ]
  },
  {
   "cell_type": "code",
   "execution_count": 59,
   "metadata": {},
   "outputs": [],
   "source": [
    "dict_sample \\\n",
    "= {1: \"one\", \"two\": 2, \"three\": [1, 2, 3], \"four\": {\"inner\": \"dict\"} }"
   ]
  },
  {
   "cell_type": "code",
   "execution_count": 60,
   "metadata": {},
   "outputs": [
    {
     "data": {
      "text/plain": [
       "{1: 'one', 'two': 2, 'three': [1, 2, 3], 'four': {'inner': 'dict'}}"
      ]
     },
     "execution_count": 60,
     "metadata": {},
     "output_type": "execute_result"
    }
   ],
   "source": [
    "dict_sample"
   ]
  },
  {
   "cell_type": "markdown",
   "metadata": {},
   "source": [
    "↑特定の値をとってくるにはどうすればよいか↓"
   ]
  },
  {
   "cell_type": "code",
   "execution_count": 64,
   "metadata": {},
   "outputs": [
    {
     "data": {
      "text/plain": [
       "'dict'"
      ]
     },
     "execution_count": 64,
     "metadata": {},
     "output_type": "execute_result"
    }
   ],
   "source": [
    "dict_sample[\"four\"][\"inner\"]"
   ]
  },
  {
   "cell_type": "markdown",
   "metadata": {},
   "source": [
    "＊key、valueそれぞれでループをまわすやり方"
   ]
  },
  {
   "cell_type": "code",
   "execution_count": 65,
   "metadata": {},
   "outputs": [
    {
     "data": {
      "text/plain": [
       "{'apple': 'red', 'lemon': 'yellow', 'grapes': 'purple', 'peach': 'pink'}"
      ]
     },
     "execution_count": 65,
     "metadata": {},
     "output_type": "execute_result"
    }
   ],
   "source": [
    "fruits_colors"
   ]
  },
  {
   "cell_type": "code",
   "execution_count": 67,
   "metadata": {},
   "outputs": [
    {
     "data": {
      "text/plain": [
       "dict_keys(['apple', 'lemon', 'grapes', 'peach'])"
      ]
     },
     "execution_count": 67,
     "metadata": {},
     "output_type": "execute_result"
    }
   ],
   "source": [
    "fruits_colors.keys()"
   ]
  },
  {
   "cell_type": "code",
   "execution_count": 71,
   "metadata": {},
   "outputs": [
    {
     "name": "stdout",
     "output_type": "stream",
     "text": [
      "apple\n",
      "lemon\n",
      "grapes\n",
      "peach\n"
     ]
    }
   ],
   "source": [
    "for fruit in fruits_colors.keys():\n",
    "    print(fruit)"
   ]
  },
  {
   "cell_type": "code",
   "execution_count": 68,
   "metadata": {},
   "outputs": [
    {
     "data": {
      "text/plain": [
       "dict_values(['red', 'yellow', 'purple', 'pink'])"
      ]
     },
     "execution_count": 68,
     "metadata": {},
     "output_type": "execute_result"
    }
   ],
   "source": [
    "fruits_colors.values()"
   ]
  },
  {
   "cell_type": "code",
   "execution_count": 71,
   "metadata": {},
   "outputs": [
    {
     "name": "stdout",
     "output_type": "stream",
     "text": [
      "apple\n",
      "lemon\n",
      "grapes\n",
      "peach\n"
     ]
    }
   ],
   "source": [
    "for fruit in fruits_colors.keys():\n",
    "    print(fruit)"
   ]
  },
  {
   "cell_type": "code",
   "execution_count": 72,
   "metadata": {},
   "outputs": [
    {
     "name": "stdout",
     "output_type": "stream",
     "text": [
      "apple\n",
      "lemon\n",
      "grapes\n",
      "peach\n"
     ]
    }
   ],
   "source": [
    "for color in fruits_colors.keys():\n",
    "    print(color)"
   ]
  },
  {
   "cell_type": "code",
   "execution_count": 73,
   "metadata": {},
   "outputs": [
    {
     "data": {
      "text/plain": [
       "dict_items([('apple', 'red'), ('lemon', 'yellow'), ('grapes', 'purple'), ('peach', 'pink')])"
      ]
     },
     "execution_count": 73,
     "metadata": {},
     "output_type": "execute_result"
    }
   ],
   "source": [
    "fruits_colors.items()"
   ]
  },
  {
   "cell_type": "code",
   "execution_count": 77,
   "metadata": {},
   "outputs": [
    {
     "name": "stdout",
     "output_type": "stream",
     "text": [
      "apple's' color is red\n",
      "lemon's' color is yellow\n",
      "grapes's' color is purple\n",
      "peach's' color is pink\n"
     ]
    }
   ],
   "source": [
    "for fruit, color in fruits_colors.items():\n",
    "    print(f\"{fruit}'s' color is {color}\")"
   ]
  },
  {
   "cell_type": "code",
   "execution_count": null,
   "metadata": {},
   "outputs": [],
   "source": []
  },
  {
   "cell_type": "markdown",
   "metadata": {},
   "source": [
    "＊ディクショナリのメソッド"
   ]
  },
  {
   "cell_type": "code",
   "execution_count": 80,
   "metadata": {},
   "outputs": [],
   "source": [
    "fruits_colors = {\"apple\": \"red\", \"lemon\": \"yellow\", \"grapes\": \"purple\"}"
   ]
  },
  {
   "cell_type": "markdown",
   "metadata": {},
   "source": [
    "＊.get()　・・・keyをもとにvalueを取得する　⇒.get(key、なかった場合)"
   ]
  },
  {
   "cell_type": "code",
   "execution_count": 82,
   "metadata": {},
   "outputs": [
    {
     "data": {
      "text/plain": [
       "'red'"
      ]
     },
     "execution_count": 82,
     "metadata": {},
     "output_type": "execute_result"
    }
   ],
   "source": [
    "fruits_colors.get(\"apple\", \"Nothing\")"
   ]
  },
  {
   "cell_type": "code",
   "execution_count": 81,
   "metadata": {},
   "outputs": [
    {
     "data": {
      "text/plain": [
       "'Nothing'"
      ]
     },
     "execution_count": 81,
     "metadata": {},
     "output_type": "execute_result"
    }
   ],
   "source": [
    "fruits_colors.get(\"peach\", \"Nothing\")"
   ]
  },
  {
   "cell_type": "markdown",
   "metadata": {},
   "source": [
    "↑どういうときに使うかというと・・、、、↓"
   ]
  },
  {
   "cell_type": "code",
   "execution_count": 85,
   "metadata": {},
   "outputs": [
    {
     "name": "stdout",
     "output_type": "stream",
     "text": [
      "フルーツの名前を入力してくださいapple\n"
     ]
    },
    {
     "data": {
      "text/plain": [
       "'red'"
      ]
     },
     "execution_count": 85,
     "metadata": {},
     "output_type": "execute_result"
    }
   ],
   "source": [
    "choice = input(\"フルーツの名前を入力してください\")\n",
    "fruits_colors.get(choice, \"そのフルーツはありません\")"
   ]
  },
  {
   "cell_type": "markdown",
   "metadata": {},
   "source": [
    "＊.update()・・ディクショナリを結合する　⇒dict1.update(dict2)"
   ]
  },
  {
   "cell_type": "code",
   "execution_count": 89,
   "metadata": {},
   "outputs": [],
   "source": [
    "fruits_colors = {\"apple\": \"red\", \"lemon\": \"yellow\", \"grapes\": \"purple\"}\n",
    "fruits_colors2 = {\"peach\": \"pink\", \"kiwi\": \"green\"}"
   ]
  },
  {
   "cell_type": "code",
   "execution_count": 94,
   "metadata": {},
   "outputs": [],
   "source": [
    "fruits_colors.update(fruits_colors2)"
   ]
  },
  {
   "cell_type": "code",
   "execution_count": 95,
   "metadata": {},
   "outputs": [
    {
     "data": {
      "text/plain": [
       "{'apple': 'red',\n",
       " 'lemon': 'yellow',\n",
       " 'grapes': 'purple',\n",
       " 'peach': 'pink',\n",
       " 'kiwi': 'green'}"
      ]
     },
     "execution_count": 95,
     "metadata": {},
     "output_type": "execute_result"
    }
   ],
   "source": [
    "fruits_colors"
   ]
  },
  {
   "cell_type": "code",
   "execution_count": null,
   "metadata": {},
   "outputs": [],
   "source": []
  },
  {
   "cell_type": "markdown",
   "metadata": {},
   "source": [
    "40.ディクショナリの課題"
   ]
  },
  {
   "cell_type": "markdown",
   "metadata": {},
   "source": [
    "↓前に作ったこれを、ディクショナリを使ってリファクタリングする"
   ]
  },
  {
   "cell_type": "code",
   "execution_count": null,
   "metadata": {},
   "outputs": [],
   "source": [
    "age = int(input(\"何歳ですか？\"))\n",
    "casino_age = 18\n",
    "game_guide = \"\"\"プレイするゲームを選択してください\n",
    "１：ルーレット\n",
    "２：ブラックジャック\n",
    "３：ポーカー\n",
    "\"\"\"\n",
    "\n",
    "if age >= casino_age:\n",
    "    print(f\"あなたは{age}歳ですね。ようこそ、カジノへ！！\")\n",
    "    while True:\n",
    "        game_no = int(input(game_guide))\n",
    "        if game_no == 1:\n",
    "            print(\"ルーレットですね。\")\n",
    "            break\n",
    "        elif game_no == 2:\n",
    "            print(\"ブラックジャックですね\")\n",
    "            break\n",
    "        elif game_no == 3:\n",
    "            print(\"ポーカーですね\")\n",
    "            break\n",
    "        else:\n",
    "            print(\"1-3のどれかを選んでください\")\n",
    "            continue\n",
    "else:\n",
    "    print(f\"あなたは{age}歳ですね。18歳未満はカジノへ入場できません\")"
   ]
  },
  {
   "cell_type": "markdown",
   "metadata": {},
   "source": [
    "↓チャレンジ"
   ]
  },
  {
   "cell_type": "code",
   "execution_count": 5,
   "metadata": {},
   "outputs": [
    {
     "name": "stdin",
     "output_type": "stream",
     "text": [
      "何歳ですか？ 19\n"
     ]
    },
    {
     "name": "stdout",
     "output_type": "stream",
     "text": [
      "あなたは19歳ですね。ようこそ、カジノへ！！\n",
      "プレイするゲームを選択してください\n",
      "1 ルーレット\n",
      "2 ブラックジャック\n",
      "3 ポーカー\n",
      "4 麻雀\n",
      "5 スロット\n"
     ]
    },
    {
     "name": "stdin",
     "output_type": "stream",
     "text": [
      "ゲーム番号: 3\n"
     ]
    },
    {
     "name": "stdout",
     "output_type": "stream",
     "text": [
      "ポーカーですね。\n"
     ]
    }
   ],
   "source": [
    "age = int(input(\"何歳ですか？\"))\n",
    "casino_age = 18\n",
    "game_guide_dict = {1: \"ルーレット\", 2: \"ブラックジャック\", 3: \"ポーカー\", 4:\"麻雀\", 5:\"スロット\"}\n",
    "\n",
    "if age >= casino_age:\n",
    "    print(f\"あなたは{age}歳ですね。ようこそ、カジノへ！！\")\n",
    "    while True:\n",
    "        print(\"プレイするゲームを選択してください\")\n",
    "        for key, value in game_guide_dict.items():\n",
    "            print(key, value)\n",
    "        game_no = int(input(\"ゲーム番号:\"))\n",
    "        \n",
    "        if game_no in game_guide_dict.keys():\n",
    "            print(f\"{game_guide_dict[game_no]}ですね。\")\n",
    "            break\n",
    "        else:\n",
    "            print(f\"存在するゲーム番号を選択してください\")\n",
    "            continue        \n",
    "else:\n",
    "    print(f\"あなたは{age}歳ですね。{casino_age}未満はカジノへ入場できません\")"
   ]
  },
  {
   "cell_type": "code",
   "execution_count": null,
   "metadata": {},
   "outputs": [],
   "source": []
  },
  {
   "cell_type": "markdown",
   "metadata": {},
   "source": [
    "#### 41．セット型（sets）・・重複しないリスト・・{}"
   ]
  },
  {
   "cell_type": "code",
   "execution_count": 6,
   "metadata": {},
   "outputs": [],
   "source": [
    "fruits_set = {\"apple\", \"peach\", \"lemon\", \"grapes\", \"apple\"}"
   ]
  },
  {
   "cell_type": "markdown",
   "metadata": {},
   "source": [
    "重複してる分は保持されてない↓"
   ]
  },
  {
   "cell_type": "code",
   "execution_count": 8,
   "metadata": {},
   "outputs": [
    {
     "data": {
      "text/plain": [
       "{'apple', 'grapes', 'lemon', 'peach'}"
      ]
     },
     "execution_count": 8,
     "metadata": {},
     "output_type": "execute_result"
    }
   ],
   "source": [
    "fruits_set"
   ]
  },
  {
   "cell_type": "markdown",
   "metadata": {},
   "source": [
    "順序なんで持ってないから、⇒インデックス指定したらエラーになる↓"
   ]
  },
  {
   "cell_type": "code",
   "execution_count": 9,
   "metadata": {},
   "outputs": [
    {
     "ename": "TypeError",
     "evalue": "'set' object is not subscriptable",
     "output_type": "error",
     "traceback": [
      "\u001b[1;31m---------------------------------------------------------------------------\u001b[0m",
      "\u001b[1;31mTypeError\u001b[0m                                 Traceback (most recent call last)",
      "\u001b[1;32m<ipython-input-9-d5302f7b6e02>\u001b[0m in \u001b[0;36m<module>\u001b[1;34m\u001b[0m\n\u001b[1;32m----> 1\u001b[1;33m \u001b[0mfruits_set\u001b[0m\u001b[1;33m[\u001b[0m\u001b[1;36m1\u001b[0m\u001b[1;33m]\u001b[0m\u001b[1;33m\u001b[0m\u001b[1;33m\u001b[0m\u001b[0m\n\u001b[0m",
      "\u001b[1;31mTypeError\u001b[0m: 'set' object is not subscriptable"
     ]
    }
   ],
   "source": [
    "fruits_set[1]"
   ]
  },
  {
   "cell_type": "code",
   "execution_count": 10,
   "metadata": {},
   "outputs": [
    {
     "data": {
      "text/plain": [
       "4"
      ]
     },
     "execution_count": 10,
     "metadata": {},
     "output_type": "execute_result"
    }
   ],
   "source": [
    "len(fruits_set)"
   ]
  },
  {
   "cell_type": "markdown",
   "metadata": {},
   "source": [
    "↑セットは、開発ではほとんどつかわない（らしい）"
   ]
  },
  {
   "cell_type": "code",
   "execution_count": null,
   "metadata": {},
   "outputs": [],
   "source": []
  },
  {
   "cell_type": "markdown",
   "metadata": {},
   "source": [
    "#### 42．型変換（Casting）"
   ]
  },
  {
   "cell_type": "markdown",
   "metadata": {},
   "source": [
    "※Pythonは自動的にやってくれないので、明示的にやらないといけない。"
   ]
  },
  {
   "cell_type": "code",
   "execution_count": null,
   "metadata": {},
   "outputs": [],
   "source": []
  },
  {
   "cell_type": "markdown",
   "metadata": {},
   "source": [
    "#### 43．mutableとimmutable"
   ]
  },
  {
   "cell_type": "markdown",
   "metadata": {},
   "source": [
    "#### ＊mutable・・変更可能なオブジェクト：list, dict, set"
   ]
  },
  {
   "cell_type": "markdown",
   "metadata": {},
   "source": [
    "#### ＊immutable・・変更不可能なオブジェクト：int, float, str, bool, tuple"
   ]
  }
 ],
 "metadata": {
  "kernelspec": {
   "display_name": "Python 3",
   "language": "python",
   "name": "python3"
  },
  "language_info": {
   "codemirror_mode": {
    "name": "ipython",
    "version": 3
   },
   "file_extension": ".py",
   "mimetype": "text/x-python",
   "name": "python",
   "nbconvert_exporter": "python",
   "pygments_lexer": "ipython3",
   "version": "3.8.3"
  }
 },
 "nbformat": 4,
 "nbformat_minor": 4
}
